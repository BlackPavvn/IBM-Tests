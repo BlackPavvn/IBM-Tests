{
  "nbformat": 4,
  "nbformat_minor": 0,
  "metadata": {
    "colab": {
      "provenance": []
    },
    "kernelspec": {
      "name": "python3",
      "display_name": "Python 3"
    },
    "language_info": {
      "name": "python"
    }
  },
  "cells": [
    {
      "cell_type": "markdown",
      "source": [
        "#Data Science Tools and Ecosystem"
      ],
      "metadata": {
        "id": "NvgoG0QF74CU"
      }
    },
    {
      "cell_type": "markdown",
      "source": [
        "In this notebook, Data Science Tools and Ecosystem are summarized."
      ],
      "metadata": {
        "id": "fQv7ktek8OZE"
      }
    },
    {
      "cell_type": "markdown",
      "source": [
        "**Objectives**\n",
        "- Create cells in jupyter notebooks\n",
        "- Use ordered and unordered lists in markdown cells\n",
        "- Execute code in jupyter notebooks\n",
        "- Use github\n",
        "\n",
        "##Author:\n",
        "Edmundo Manuel Miranda Bailón"
      ],
      "metadata": {
        "id": "017UEatE1880"
      }
    },
    {
      "cell_type": "markdown",
      "source": [
        "Some of the popular languages that Data Scientists use are:\n",
        "1. Python\n",
        "2. R\n",
        "2. SQL\n",
        "\n",
        "Some of the commonly used libraries used by data science include:\n",
        "1. Numpy\n",
        "2. Scikit-learn\n",
        "3. Tensorflow\n",
        "4. Pandas\n",
        "\n",
        "|Data Science Tools|\n",
        "|------------------|\n",
        "|Anaconda|\n",
        "|Jupyter Notebooks|\n",
        "|Visual Studio Code|\n",
        "\n",
        "###Below are a few examples of evaluating arithmetic expressions in Python"
      ],
      "metadata": {
        "id": "ngq2YX5wrUBm"
      }
    },
    {
      "cell_type": "code",
      "execution_count": 1,
      "metadata": {
        "id": "tR1Etx5x7BGV",
        "colab": {
          "base_uri": "https://localhost:8080/"
        },
        "outputId": "a81b6303-dc41-44b1-b1fb-45368574bcbf"
      },
      "outputs": [
        {
          "output_type": "execute_result",
          "data": {
            "text/plain": [
              "17"
            ]
          },
          "metadata": {},
          "execution_count": 1
        }
      ],
      "source": [
        "#This a simple arithmetic expression to mutiply then add integers\n",
        "(3*4)+5"
      ]
    },
    {
      "cell_type": "code",
      "source": [
        "#This will convert 200 minutes to hours by diving by 60\n",
        "hours = int(200/60)\n",
        "minutes = 200%60\n",
        "output = f\"{hours} hours {minutes} minutes\"\n",
        "print(output)"
      ],
      "metadata": {
        "colab": {
          "base_uri": "https://localhost:8080/"
        },
        "id": "BQa4yhnoxARd",
        "outputId": "b69a9e62-4c5c-43bc-bc0f-2100bae180ae"
      },
      "execution_count": 4,
      "outputs": [
        {
          "output_type": "stream",
          "name": "stdout",
          "text": [
            "3 hours 20 minutes\n"
          ]
        }
      ]
    }
  ]
}